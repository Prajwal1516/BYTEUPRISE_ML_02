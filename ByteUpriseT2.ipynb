{
 "cells": [
  {
   "cell_type": "code",
   "execution_count": 2,
   "id": "2666ecc7-9e67-41b9-8468-749e3ea4e3ef",
   "metadata": {},
   "outputs": [],
   "source": [
    "import numpy as np\n",
    "import pandas as pd\n",
    "import matplotlib.pyplot as plt\n",
    "import seaborn as sns"
   ]
  },
  {
   "cell_type": "code",
   "execution_count": 3,
   "id": "e01d5250-8679-49f3-9f6f-4ae126e50dd3",
   "metadata": {},
   "outputs": [],
   "source": [
    "data = pd.read_csv(\"ratings.csv\")"
   ]
  },
  {
   "cell_type": "code",
   "execution_count": 4,
   "id": "2bea22f7-2b58-43e2-91ba-699870c6eda7",
   "metadata": {},
   "outputs": [
    {
     "data": {
      "text/html": [
       "<div>\n",
       "<style scoped>\n",
       "    .dataframe tbody tr th:only-of-type {\n",
       "        vertical-align: middle;\n",
       "    }\n",
       "\n",
       "    .dataframe tbody tr th {\n",
       "        vertical-align: top;\n",
       "    }\n",
       "\n",
       "    .dataframe thead th {\n",
       "        text-align: right;\n",
       "    }\n",
       "</style>\n",
       "<table border=\"1\" class=\"dataframe\">\n",
       "  <thead>\n",
       "    <tr style=\"text-align: right;\">\n",
       "      <th></th>\n",
       "      <th>user_id</th>\n",
       "      <th>movie_id</th>\n",
       "      <th>rating</th>\n",
       "      <th>genres</th>\n",
       "      <th>production_companies</th>\n",
       "      <th>production_countries</th>\n",
       "      <th>release_year</th>\n",
       "      <th>overview</th>\n",
       "    </tr>\n",
       "  </thead>\n",
       "  <tbody>\n",
       "    <tr>\n",
       "      <th>0</th>\n",
       "      <td>93787</td>\n",
       "      <td>gods+and+monsters+1998</td>\n",
       "      <td>4</td>\n",
       "      <td>Drama</td>\n",
       "      <td>Lions Gate Films Flashpoint (I) Showtime Networks</td>\n",
       "      <td>United Kingdom United States of America</td>\n",
       "      <td>1998.0</td>\n",
       "      <td>It's 1957, and Whale's heyday as the director ...</td>\n",
       "    </tr>\n",
       "    <tr>\n",
       "      <th>1</th>\n",
       "      <td>197858</td>\n",
       "      <td>stargate+1994</td>\n",
       "      <td>3</td>\n",
       "      <td>Action Adventure Science Fiction</td>\n",
       "      <td>Centropolis Entertainment StudioCanal Carolco ...</td>\n",
       "      <td>France United States of America</td>\n",
       "      <td>1994.0</td>\n",
       "      <td>An interstellar teleportation device, found in...</td>\n",
       "    </tr>\n",
       "    <tr>\n",
       "      <th>2</th>\n",
       "      <td>76204</td>\n",
       "      <td>toy+story+1995</td>\n",
       "      <td>3</td>\n",
       "      <td>Animation Comedy Family</td>\n",
       "      <td>Pixar Animation Studios</td>\n",
       "      <td>United States of America</td>\n",
       "      <td>1995.0</td>\n",
       "      <td>Led by Woody, Andy's toys live happily in his ...</td>\n",
       "    </tr>\n",
       "    <tr>\n",
       "      <th>3</th>\n",
       "      <td>667201</td>\n",
       "      <td>friends+with+benefits+2011</td>\n",
       "      <td>4</td>\n",
       "      <td>Romance Comedy</td>\n",
       "      <td>Castle Rock Entertainment Screen Gems Olive Br...</td>\n",
       "      <td>United States of America</td>\n",
       "      <td>2011.0</td>\n",
       "      <td>Jamie is a New York-based executive recruiter ...</td>\n",
       "    </tr>\n",
       "    <tr>\n",
       "      <th>4</th>\n",
       "      <td>336750</td>\n",
       "      <td>sleeper+1973</td>\n",
       "      <td>4</td>\n",
       "      <td>Comedy Romance Science Fiction</td>\n",
       "      <td>Rollins-Joffe Productions</td>\n",
       "      <td>United States of America</td>\n",
       "      <td>1973.0</td>\n",
       "      <td>Miles Monroe, a clarinet-playing health food s...</td>\n",
       "    </tr>\n",
       "    <tr>\n",
       "      <th>...</th>\n",
       "      <td>...</td>\n",
       "      <td>...</td>\n",
       "      <td>...</td>\n",
       "      <td>...</td>\n",
       "      <td>...</td>\n",
       "      <td>...</td>\n",
       "      <td>...</td>\n",
       "      <td>...</td>\n",
       "    </tr>\n",
       "    <tr>\n",
       "      <th>1993</th>\n",
       "      <td>584138</td>\n",
       "      <td>the+matrix+revolutions+2003</td>\n",
       "      <td>3</td>\n",
       "      <td>Adventure Action Thriller Science Fiction</td>\n",
       "      <td>Village Roadshow Pictures NPV Entertainment Si...</td>\n",
       "      <td>United States of America Australia</td>\n",
       "      <td>2003.0</td>\n",
       "      <td>The human city of Zion defends itself against ...</td>\n",
       "    </tr>\n",
       "    <tr>\n",
       "      <th>1994</th>\n",
       "      <td>440326</td>\n",
       "      <td>koyaanisqatsi+1982</td>\n",
       "      <td>5</td>\n",
       "      <td>Documentary Music</td>\n",
       "      <td>IRE Productions Santa Fe Institute for Regiona...</td>\n",
       "      <td>United States of America</td>\n",
       "      <td>1982.0</td>\n",
       "      <td>Takes us to locations all around the US and sh...</td>\n",
       "    </tr>\n",
       "    <tr>\n",
       "      <th>1995</th>\n",
       "      <td>5132</td>\n",
       "      <td>prt--porter+1994</td>\n",
       "      <td>3</td>\n",
       "      <td>Drama Comedy</td>\n",
       "      <td>Miramax Films</td>\n",
       "      <td>United States of America</td>\n",
       "      <td>1994.0</td>\n",
       "      <td>Paris Fashion Week draws the usual bunch of pe...</td>\n",
       "    </tr>\n",
       "    <tr>\n",
       "      <th>1996</th>\n",
       "      <td>764247</td>\n",
       "      <td>clue+1985</td>\n",
       "      <td>5</td>\n",
       "      <td>Comedy Thriller Crime Mystery</td>\n",
       "      <td>Paramount Pictures Debra Hill Productions Poly...</td>\n",
       "      <td>United States of America</td>\n",
       "      <td>1985.0</td>\n",
       "      <td>Clue finds six colorful dinner guests gathered...</td>\n",
       "    </tr>\n",
       "    <tr>\n",
       "      <th>1997</th>\n",
       "      <td>858562</td>\n",
       "      <td>pulp+fiction+1994</td>\n",
       "      <td>4</td>\n",
       "      <td>Thriller Crime</td>\n",
       "      <td>Miramax Films A Band Apart Jersey Films</td>\n",
       "      <td>United States of America</td>\n",
       "      <td>1994.0</td>\n",
       "      <td>A burger-loving hit man, his philosophical par...</td>\n",
       "    </tr>\n",
       "  </tbody>\n",
       "</table>\n",
       "<p>1998 rows × 8 columns</p>\n",
       "</div>"
      ],
      "text/plain": [
       "      user_id                     movie_id  rating  \\\n",
       "0       93787       gods+and+monsters+1998       4   \n",
       "1      197858                stargate+1994       3   \n",
       "2       76204               toy+story+1995       3   \n",
       "3      667201   friends+with+benefits+2011       4   \n",
       "4      336750                 sleeper+1973       4   \n",
       "...       ...                          ...     ...   \n",
       "1993   584138  the+matrix+revolutions+2003       3   \n",
       "1994   440326           koyaanisqatsi+1982       5   \n",
       "1995     5132             prt--porter+1994       3   \n",
       "1996   764247                    clue+1985       5   \n",
       "1997   858562            pulp+fiction+1994       4   \n",
       "\n",
       "                                         genres  \\\n",
       "0                                         Drama   \n",
       "1              Action Adventure Science Fiction   \n",
       "2                       Animation Comedy Family   \n",
       "3                                Romance Comedy   \n",
       "4                Comedy Romance Science Fiction   \n",
       "...                                         ...   \n",
       "1993  Adventure Action Thriller Science Fiction   \n",
       "1994                          Documentary Music   \n",
       "1995                               Drama Comedy   \n",
       "1996              Comedy Thriller Crime Mystery   \n",
       "1997                             Thriller Crime   \n",
       "\n",
       "                                   production_companies  \\\n",
       "0     Lions Gate Films Flashpoint (I) Showtime Networks   \n",
       "1     Centropolis Entertainment StudioCanal Carolco ...   \n",
       "2                               Pixar Animation Studios   \n",
       "3     Castle Rock Entertainment Screen Gems Olive Br...   \n",
       "4                             Rollins-Joffe Productions   \n",
       "...                                                 ...   \n",
       "1993  Village Roadshow Pictures NPV Entertainment Si...   \n",
       "1994  IRE Productions Santa Fe Institute for Regiona...   \n",
       "1995                                      Miramax Films   \n",
       "1996  Paramount Pictures Debra Hill Productions Poly...   \n",
       "1997            Miramax Films A Band Apart Jersey Films   \n",
       "\n",
       "                         production_countries  release_year  \\\n",
       "0     United Kingdom United States of America        1998.0   \n",
       "1             France United States of America        1994.0   \n",
       "2                    United States of America        1995.0   \n",
       "3                    United States of America        2011.0   \n",
       "4                    United States of America        1973.0   \n",
       "...                                       ...           ...   \n",
       "1993       United States of America Australia        2003.0   \n",
       "1994                 United States of America        1982.0   \n",
       "1995                 United States of America        1994.0   \n",
       "1996                 United States of America        1985.0   \n",
       "1997                 United States of America        1994.0   \n",
       "\n",
       "                                               overview  \n",
       "0     It's 1957, and Whale's heyday as the director ...  \n",
       "1     An interstellar teleportation device, found in...  \n",
       "2     Led by Woody, Andy's toys live happily in his ...  \n",
       "3     Jamie is a New York-based executive recruiter ...  \n",
       "4     Miles Monroe, a clarinet-playing health food s...  \n",
       "...                                                 ...  \n",
       "1993  The human city of Zion defends itself against ...  \n",
       "1994  Takes us to locations all around the US and sh...  \n",
       "1995  Paris Fashion Week draws the usual bunch of pe...  \n",
       "1996  Clue finds six colorful dinner guests gathered...  \n",
       "1997  A burger-loving hit man, his philosophical par...  \n",
       "\n",
       "[1998 rows x 8 columns]"
      ]
     },
     "execution_count": 4,
     "metadata": {},
     "output_type": "execute_result"
    }
   ],
   "source": [
    "data"
   ]
  },
  {
   "cell_type": "code",
   "execution_count": 5,
   "id": "04c50192-fb5d-4157-be2a-6e04da180041",
   "metadata": {},
   "outputs": [
    {
     "name": "stdout",
     "output_type": "stream",
     "text": [
      "<class 'pandas.core.frame.DataFrame'>\n",
      "RangeIndex: 1998 entries, 0 to 1997\n",
      "Data columns (total 8 columns):\n",
      " #   Column                Non-Null Count  Dtype  \n",
      "---  ------                --------------  -----  \n",
      " 0   user_id               1998 non-null   int64  \n",
      " 1   movie_id              1998 non-null   object \n",
      " 2   rating                1998 non-null   int64  \n",
      " 3   genres                1996 non-null   object \n",
      " 4   production_companies  1985 non-null   object \n",
      " 5   production_countries  1994 non-null   object \n",
      " 6   release_year          1998 non-null   float64\n",
      " 7   overview              1997 non-null   object \n",
      "dtypes: float64(1), int64(2), object(5)\n",
      "memory usage: 125.0+ KB\n"
     ]
    }
   ],
   "source": [
    "data.info()"
   ]
  },
  {
   "cell_type": "code",
   "execution_count": 6,
   "id": "3e5d084c-7b32-4d13-91b0-ccbbf8c7310d",
   "metadata": {},
   "outputs": [],
   "source": [
    "data.dropna(inplace=True)"
   ]
  },
  {
   "cell_type": "code",
   "execution_count": 7,
   "id": "a5645ccc-57be-43f5-a8b2-f144254ff206",
   "metadata": {},
   "outputs": [
    {
     "name": "stdout",
     "output_type": "stream",
     "text": [
      "<class 'pandas.core.frame.DataFrame'>\n",
      "Index: 1980 entries, 0 to 1997\n",
      "Data columns (total 8 columns):\n",
      " #   Column                Non-Null Count  Dtype  \n",
      "---  ------                --------------  -----  \n",
      " 0   user_id               1980 non-null   int64  \n",
      " 1   movie_id              1980 non-null   object \n",
      " 2   rating                1980 non-null   int64  \n",
      " 3   genres                1980 non-null   object \n",
      " 4   production_companies  1980 non-null   object \n",
      " 5   production_countries  1980 non-null   object \n",
      " 6   release_year          1980 non-null   float64\n",
      " 7   overview              1980 non-null   object \n",
      "dtypes: float64(1), int64(2), object(5)\n",
      "memory usage: 139.2+ KB\n"
     ]
    }
   ],
   "source": [
    "data.info()"
   ]
  },
  {
   "cell_type": "code",
   "execution_count": 8,
   "id": "e95137ef-6b21-445f-aad5-2537c16fc855",
   "metadata": {},
   "outputs": [
    {
     "data": {
      "text/html": [
       "<div>\n",
       "<style scoped>\n",
       "    .dataframe tbody tr th:only-of-type {\n",
       "        vertical-align: middle;\n",
       "    }\n",
       "\n",
       "    .dataframe tbody tr th {\n",
       "        vertical-align: top;\n",
       "    }\n",
       "\n",
       "    .dataframe thead th {\n",
       "        text-align: right;\n",
       "    }\n",
       "</style>\n",
       "<table border=\"1\" class=\"dataframe\">\n",
       "  <thead>\n",
       "    <tr style=\"text-align: right;\">\n",
       "      <th></th>\n",
       "      <th>user_id</th>\n",
       "      <th>movie_id</th>\n",
       "      <th>rating</th>\n",
       "      <th>genres</th>\n",
       "      <th>production_companies</th>\n",
       "      <th>production_countries</th>\n",
       "      <th>release_year</th>\n",
       "      <th>overview</th>\n",
       "    </tr>\n",
       "  </thead>\n",
       "  <tbody>\n",
       "    <tr>\n",
       "      <th>0</th>\n",
       "      <td>93787</td>\n",
       "      <td>gods+and+monsters+1998</td>\n",
       "      <td>4</td>\n",
       "      <td>Drama</td>\n",
       "      <td>Lions Gate Films Flashpoint (I) Showtime Networks</td>\n",
       "      <td>United Kingdom United States of America</td>\n",
       "      <td>1998.0</td>\n",
       "      <td>It's 1957, and Whale's heyday as the director ...</td>\n",
       "    </tr>\n",
       "    <tr>\n",
       "      <th>1</th>\n",
       "      <td>197858</td>\n",
       "      <td>stargate+1994</td>\n",
       "      <td>3</td>\n",
       "      <td>Action Adventure Science Fiction</td>\n",
       "      <td>Centropolis Entertainment StudioCanal Carolco ...</td>\n",
       "      <td>France United States of America</td>\n",
       "      <td>1994.0</td>\n",
       "      <td>An interstellar teleportation device, found in...</td>\n",
       "    </tr>\n",
       "    <tr>\n",
       "      <th>2</th>\n",
       "      <td>76204</td>\n",
       "      <td>toy+story+1995</td>\n",
       "      <td>3</td>\n",
       "      <td>Animation Comedy Family</td>\n",
       "      <td>Pixar Animation Studios</td>\n",
       "      <td>United States of America</td>\n",
       "      <td>1995.0</td>\n",
       "      <td>Led by Woody, Andy's toys live happily in his ...</td>\n",
       "    </tr>\n",
       "    <tr>\n",
       "      <th>3</th>\n",
       "      <td>667201</td>\n",
       "      <td>friends+with+benefits+2011</td>\n",
       "      <td>4</td>\n",
       "      <td>Romance Comedy</td>\n",
       "      <td>Castle Rock Entertainment Screen Gems Olive Br...</td>\n",
       "      <td>United States of America</td>\n",
       "      <td>2011.0</td>\n",
       "      <td>Jamie is a New York-based executive recruiter ...</td>\n",
       "    </tr>\n",
       "    <tr>\n",
       "      <th>4</th>\n",
       "      <td>336750</td>\n",
       "      <td>sleeper+1973</td>\n",
       "      <td>4</td>\n",
       "      <td>Comedy Romance Science Fiction</td>\n",
       "      <td>Rollins-Joffe Productions</td>\n",
       "      <td>United States of America</td>\n",
       "      <td>1973.0</td>\n",
       "      <td>Miles Monroe, a clarinet-playing health food s...</td>\n",
       "    </tr>\n",
       "  </tbody>\n",
       "</table>\n",
       "</div>"
      ],
      "text/plain": [
       "   user_id                    movie_id  rating  \\\n",
       "0    93787      gods+and+monsters+1998       4   \n",
       "1   197858               stargate+1994       3   \n",
       "2    76204              toy+story+1995       3   \n",
       "3   667201  friends+with+benefits+2011       4   \n",
       "4   336750                sleeper+1973       4   \n",
       "\n",
       "                             genres  \\\n",
       "0                             Drama   \n",
       "1  Action Adventure Science Fiction   \n",
       "2           Animation Comedy Family   \n",
       "3                    Romance Comedy   \n",
       "4    Comedy Romance Science Fiction   \n",
       "\n",
       "                                production_companies  \\\n",
       "0  Lions Gate Films Flashpoint (I) Showtime Networks   \n",
       "1  Centropolis Entertainment StudioCanal Carolco ...   \n",
       "2                            Pixar Animation Studios   \n",
       "3  Castle Rock Entertainment Screen Gems Olive Br...   \n",
       "4                          Rollins-Joffe Productions   \n",
       "\n",
       "                      production_countries  release_year  \\\n",
       "0  United Kingdom United States of America        1998.0   \n",
       "1          France United States of America        1994.0   \n",
       "2                 United States of America        1995.0   \n",
       "3                 United States of America        2011.0   \n",
       "4                 United States of America        1973.0   \n",
       "\n",
       "                                            overview  \n",
       "0  It's 1957, and Whale's heyday as the director ...  \n",
       "1  An interstellar teleportation device, found in...  \n",
       "2  Led by Woody, Andy's toys live happily in his ...  \n",
       "3  Jamie is a New York-based executive recruiter ...  \n",
       "4  Miles Monroe, a clarinet-playing health food s...  "
      ]
     },
     "execution_count": 8,
     "metadata": {},
     "output_type": "execute_result"
    }
   ],
   "source": [
    "data.head()"
   ]
  },
  {
   "cell_type": "code",
   "execution_count": 9,
   "id": "5597dadc-e8ff-453d-9f92-87da8da42427",
   "metadata": {},
   "outputs": [
    {
     "data": {
      "text/plain": [
       "(1980, 8)"
      ]
     },
     "execution_count": 9,
     "metadata": {},
     "output_type": "execute_result"
    }
   ],
   "source": [
    "data.shape"
   ]
  },
  {
   "cell_type": "code",
   "execution_count": 10,
   "id": "c42fafdc-634d-48c7-bf6f-b17fb21c3480",
   "metadata": {},
   "outputs": [
    {
     "data": {
      "text/html": [
       "<div>\n",
       "<style scoped>\n",
       "    .dataframe tbody tr th:only-of-type {\n",
       "        vertical-align: middle;\n",
       "    }\n",
       "\n",
       "    .dataframe tbody tr th {\n",
       "        vertical-align: top;\n",
       "    }\n",
       "\n",
       "    .dataframe thead th {\n",
       "        text-align: right;\n",
       "    }\n",
       "</style>\n",
       "<table border=\"1\" class=\"dataframe\">\n",
       "  <thead>\n",
       "    <tr style=\"text-align: right;\">\n",
       "      <th></th>\n",
       "      <th>user_id</th>\n",
       "      <th>rating</th>\n",
       "      <th>release_year</th>\n",
       "    </tr>\n",
       "  </thead>\n",
       "  <tbody>\n",
       "    <tr>\n",
       "      <th>count</th>\n",
       "      <td>1980.000000</td>\n",
       "      <td>1980.000000</td>\n",
       "      <td>1980.000000</td>\n",
       "    </tr>\n",
       "    <tr>\n",
       "      <th>mean</th>\n",
       "      <td>497737.901010</td>\n",
       "      <td>3.673232</td>\n",
       "      <td>1991.471717</td>\n",
       "    </tr>\n",
       "    <tr>\n",
       "      <th>std</th>\n",
       "      <td>290454.009998</td>\n",
       "      <td>1.056174</td>\n",
       "      <td>13.189133</td>\n",
       "    </tr>\n",
       "    <tr>\n",
       "      <th>min</th>\n",
       "      <td>56.000000</td>\n",
       "      <td>1.000000</td>\n",
       "      <td>1922.000000</td>\n",
       "    </tr>\n",
       "    <tr>\n",
       "      <th>25%</th>\n",
       "      <td>240011.250000</td>\n",
       "      <td>3.000000</td>\n",
       "      <td>1989.000000</td>\n",
       "    </tr>\n",
       "    <tr>\n",
       "      <th>50%</th>\n",
       "      <td>492058.500000</td>\n",
       "      <td>4.000000</td>\n",
       "      <td>1995.000000</td>\n",
       "    </tr>\n",
       "    <tr>\n",
       "      <th>75%</th>\n",
       "      <td>746794.250000</td>\n",
       "      <td>4.000000</td>\n",
       "      <td>1998.250000</td>\n",
       "    </tr>\n",
       "    <tr>\n",
       "      <th>max</th>\n",
       "      <td>998652.000000</td>\n",
       "      <td>5.000000</td>\n",
       "      <td>2014.000000</td>\n",
       "    </tr>\n",
       "  </tbody>\n",
       "</table>\n",
       "</div>"
      ],
      "text/plain": [
       "             user_id       rating  release_year\n",
       "count    1980.000000  1980.000000   1980.000000\n",
       "mean   497737.901010     3.673232   1991.471717\n",
       "std    290454.009998     1.056174     13.189133\n",
       "min        56.000000     1.000000   1922.000000\n",
       "25%    240011.250000     3.000000   1989.000000\n",
       "50%    492058.500000     4.000000   1995.000000\n",
       "75%    746794.250000     4.000000   1998.250000\n",
       "max    998652.000000     5.000000   2014.000000"
      ]
     },
     "execution_count": 10,
     "metadata": {},
     "output_type": "execute_result"
    }
   ],
   "source": [
    "data.describe()"
   ]
  },
  {
   "cell_type": "code",
   "execution_count": 11,
   "id": "0a87526e-1c50-43a2-8ed5-f238312079dc",
   "metadata": {},
   "outputs": [
    {
     "data": {
      "text/plain": [
       "user_id                 0\n",
       "movie_id                0\n",
       "rating                  0\n",
       "genres                  0\n",
       "production_companies    0\n",
       "production_countries    0\n",
       "release_year            0\n",
       "overview                0\n",
       "dtype: int64"
      ]
     },
     "execution_count": 11,
     "metadata": {},
     "output_type": "execute_result"
    }
   ],
   "source": [
    "data.isna().sum()"
   ]
  },
  {
   "cell_type": "code",
   "execution_count": 12,
   "id": "d437f28b-e860-40e6-a17d-2d7cabb9d0f0",
   "metadata": {},
   "outputs": [],
   "source": [
    "from sklearn.preprocessing import LabelEncoder\n",
    "labelencoder=LabelEncoder()\n",
    "data['release_year']=labelencoder.fit_transform(data['release_year'])"
   ]
  },
  {
   "cell_type": "code",
   "execution_count": 13,
   "id": "029d916f-e9d2-44ea-94c9-8a4601e2c4b4",
   "metadata": {},
   "outputs": [
    {
     "data": {
      "text/plain": [
       "Index(['user_id', 'movie_id', 'rating', 'genres', 'production_companies',\n",
       "       'production_countries', 'release_year', 'overview'],\n",
       "      dtype='object')"
      ]
     },
     "execution_count": 13,
     "metadata": {},
     "output_type": "execute_result"
    }
   ],
   "source": [
    "data.columns"
   ]
  },
  {
   "cell_type": "code",
   "execution_count": 14,
   "id": "b37b6162-8769-46c2-a244-985120d3543c",
   "metadata": {},
   "outputs": [],
   "source": [
    "data['rating']=data['rating'].astype(str)"
   ]
  },
  {
   "cell_type": "code",
   "execution_count": 15,
   "id": "1370a6f1-8b45-4da5-abd6-2bb0e5531217",
   "metadata": {
    "scrolled": true
   },
   "outputs": [
    {
     "data": {
      "text/plain": [
       "<Axes: xlabel='genres', ylabel='count'>"
      ]
     },
     "execution_count": 15,
     "metadata": {},
     "output_type": "execute_result"
    },
    {
     "data": {
      "image/png": "[encoded data removed]",
      "text/plain": [
       "<Figure size 640x480 with 1 Axes>"
      ]
     },
     "metadata": {},
     "output_type": "display_data"
    }
   ],
   "source": [
    "sns.countplot(x=data['genres'],hue=data['rating'])"
   ]
  },
  {
   "cell_type": "code",
   "execution_count": 17,
   "id": "9bdd54f0-a3c4-4490-9e4a-c1274ad5b44d",
   "metadata": {},
   "outputs": [
    {
     "data": {
      "text/plain": [
       "<function matplotlib.pyplot.show(close=None, block=None)>"
      ]
     },
     "execution_count": 17,
     "metadata": {},
     "output_type": "execute_result"
    },
    {
     "data": {
      "image/png": "[encoded data removed]",
      "text/plain": [
       "<Figure size 640x480 with 1 Axes>"
      ]
     },
     "metadata": {},
     "output_type": "display_data"
    }
   ],
   "source": [
    "data['rating'].value_counts().plot(kind='pie')\n",
    "plt.show"
   ]
  },
  {
   "cell_type": "code",
   "execution_count": 18,
   "id": "95a400c1-25c4-44f3-84bc-874141862380",
   "metadata": {},
   "outputs": [
    {
     "data": {
      "text/html": [
       "<div>\n",
       "<style scoped>\n",
       "    .dataframe tbody tr th:only-of-type {\n",
       "        vertical-align: middle;\n",
       "    }\n",
       "\n",
       "    .dataframe tbody tr th {\n",
       "        vertical-align: top;\n",
       "    }\n",
       "\n",
       "    .dataframe thead th {\n",
       "        text-align: right;\n",
       "    }\n",
       "</style>\n",
       "<table border=\"1\" class=\"dataframe\">\n",
       "  <thead>\n",
       "    <tr style=\"text-align: right;\">\n",
       "      <th></th>\n",
       "      <th>user_id</th>\n",
       "      <th>movie_id</th>\n",
       "      <th>rating</th>\n",
       "      <th>genres</th>\n",
       "      <th>production_companies</th>\n",
       "      <th>production_countries</th>\n",
       "      <th>release_year</th>\n",
       "      <th>overview</th>\n",
       "    </tr>\n",
       "  </thead>\n",
       "  <tbody>\n",
       "    <tr>\n",
       "      <th>0</th>\n",
       "      <td>93787</td>\n",
       "      <td>gods+and+monsters+1998</td>\n",
       "      <td>4</td>\n",
       "      <td>Drama</td>\n",
       "      <td>Lions Gate Films Flashpoint (I) Showtime Networks</td>\n",
       "      <td>United Kingdom United States of America</td>\n",
       "      <td>65</td>\n",
       "      <td>It's 1957, and Whale's heyday as the director ...</td>\n",
       "    </tr>\n",
       "    <tr>\n",
       "      <th>1</th>\n",
       "      <td>197858</td>\n",
       "      <td>stargate+1994</td>\n",
       "      <td>3</td>\n",
       "      <td>Action Adventure Science Fiction</td>\n",
       "      <td>Centropolis Entertainment StudioCanal Carolco ...</td>\n",
       "      <td>France United States of America</td>\n",
       "      <td>61</td>\n",
       "      <td>An interstellar teleportation device, found in...</td>\n",
       "    </tr>\n",
       "    <tr>\n",
       "      <th>2</th>\n",
       "      <td>76204</td>\n",
       "      <td>toy+story+1995</td>\n",
       "      <td>3</td>\n",
       "      <td>Animation Comedy Family</td>\n",
       "      <td>Pixar Animation Studios</td>\n",
       "      <td>United States of America</td>\n",
       "      <td>62</td>\n",
       "      <td>Led by Woody, Andy's toys live happily in his ...</td>\n",
       "    </tr>\n",
       "    <tr>\n",
       "      <th>3</th>\n",
       "      <td>667201</td>\n",
       "      <td>friends+with+benefits+2011</td>\n",
       "      <td>4</td>\n",
       "      <td>Romance Comedy</td>\n",
       "      <td>Castle Rock Entertainment Screen Gems Olive Br...</td>\n",
       "      <td>United States of America</td>\n",
       "      <td>78</td>\n",
       "      <td>Jamie is a New York-based executive recruiter ...</td>\n",
       "    </tr>\n",
       "    <tr>\n",
       "      <th>4</th>\n",
       "      <td>336750</td>\n",
       "      <td>sleeper+1973</td>\n",
       "      <td>4</td>\n",
       "      <td>Comedy Romance Science Fiction</td>\n",
       "      <td>Rollins-Joffe Productions</td>\n",
       "      <td>United States of America</td>\n",
       "      <td>40</td>\n",
       "      <td>Miles Monroe, a clarinet-playing health food s...</td>\n",
       "    </tr>\n",
       "  </tbody>\n",
       "</table>\n",
       "</div>"
      ],
      "text/plain": [
       "   user_id                    movie_id rating  \\\n",
       "0    93787      gods+and+monsters+1998      4   \n",
       "1   197858               stargate+1994      3   \n",
       "2    76204              toy+story+1995      3   \n",
       "3   667201  friends+with+benefits+2011      4   \n",
       "4   336750                sleeper+1973      4   \n",
       "\n",
       "                             genres  \\\n",
       "0                             Drama   \n",
       "1  Action Adventure Science Fiction   \n",
       "2           Animation Comedy Family   \n",
       "3                    Romance Comedy   \n",
       "4    Comedy Romance Science Fiction   \n",
       "\n",
       "                                production_companies  \\\n",
       "0  Lions Gate Films Flashpoint (I) Showtime Networks   \n",
       "1  Centropolis Entertainment StudioCanal Carolco ...   \n",
       "2                            Pixar Animation Studios   \n",
       "3  Castle Rock Entertainment Screen Gems Olive Br...   \n",
       "4                          Rollins-Joffe Productions   \n",
       "\n",
       "                      production_countries  release_year  \\\n",
       "0  United Kingdom United States of America            65   \n",
       "1          France United States of America            61   \n",
       "2                 United States of America            62   \n",
       "3                 United States of America            78   \n",
       "4                 United States of America            40   \n",
       "\n",
       "                                            overview  \n",
       "0  It's 1957, and Whale's heyday as the director ...  \n",
       "1  An interstellar teleportation device, found in...  \n",
       "2  Led by Woody, Andy's toys live happily in his ...  \n",
       "3  Jamie is a New York-based executive recruiter ...  \n",
       "4  Miles Monroe, a clarinet-playing health food s...  "
      ]
     },
     "execution_count": 18,
     "metadata": {},
     "output_type": "execute_result"
    }
   ],
   "source": [
    "data.head()"
   ]
  },
  {
   "cell_type": "code",
   "execution_count": 61,
   "id": "fc1e5bc1-79aa-43df-98f6-dbfbe4e51d21",
   "metadata": {},
   "outputs": [],
   "source": [
    "input=data.drop(['rating','movie_id','production_companies','genres','production_countries','overview'],axis=1)\n",
    "target=data['rating']"
   ]
  },
  {
   "cell_type": "code",
   "execution_count": 62,
   "id": "ebcabe61-0815-4efc-a00d-1b5bc78c9d6b",
   "metadata": {},
   "outputs": [
    {
     "data": {
      "text/html": [
       "<div>\n",
       "<style scoped>\n",
       "    .dataframe tbody tr th:only-of-type {\n",
       "        vertical-align: middle;\n",
       "    }\n",
       "\n",
       "    .dataframe tbody tr th {\n",
       "        vertical-align: top;\n",
       "    }\n",
       "\n",
       "    .dataframe thead th {\n",
       "        text-align: right;\n",
       "    }\n",
       "</style>\n",
       "<table border=\"1\" class=\"dataframe\">\n",
       "  <thead>\n",
       "    <tr style=\"text-align: right;\">\n",
       "      <th></th>\n",
       "      <th>user_id</th>\n",
       "      <th>release_year</th>\n",
       "    </tr>\n",
       "  </thead>\n",
       "  <tbody>\n",
       "    <tr>\n",
       "      <th>0</th>\n",
       "      <td>93787</td>\n",
       "      <td>65</td>\n",
       "    </tr>\n",
       "    <tr>\n",
       "      <th>1</th>\n",
       "      <td>197858</td>\n",
       "      <td>61</td>\n",
       "    </tr>\n",
       "    <tr>\n",
       "      <th>2</th>\n",
       "      <td>76204</td>\n",
       "      <td>62</td>\n",
       "    </tr>\n",
       "    <tr>\n",
       "      <th>3</th>\n",
       "      <td>667201</td>\n",
       "      <td>78</td>\n",
       "    </tr>\n",
       "    <tr>\n",
       "      <th>4</th>\n",
       "      <td>336750</td>\n",
       "      <td>40</td>\n",
       "    </tr>\n",
       "  </tbody>\n",
       "</table>\n",
       "</div>"
      ],
      "text/plain": [
       "   user_id  release_year\n",
       "0    93787            65\n",
       "1   197858            61\n",
       "2    76204            62\n",
       "3   667201            78\n",
       "4   336750            40"
      ]
     },
     "execution_count": 62,
     "metadata": {},
     "output_type": "execute_result"
    }
   ],
   "source": [
    "input.head()"
   ]
  },
  {
   "cell_type": "code",
   "execution_count": 63,
   "id": "cc78fdb8-5b11-4689-b829-b8ab5267e2c7",
   "metadata": {},
   "outputs": [
    {
     "data": {
      "text/plain": [
       "0    4\n",
       "1    3\n",
       "2    3\n",
       "3    4\n",
       "4    4\n",
       "Name: rating, dtype: object"
      ]
     },
     "execution_count": 63,
     "metadata": {},
     "output_type": "execute_result"
    }
   ],
   "source": [
    "target.head()"
   ]
  },
  {
   "cell_type": "code",
   "execution_count": 64,
   "id": "ec07d4f9-5467-4245-8f24-41f10147aed1",
   "metadata": {},
   "outputs": [
    {
     "data": {
      "text/plain": [
       "array([[<Axes: title={'center': 'user_id'}>,\n",
       "        <Axes: title={'center': 'movie_id'}>],\n",
       "       [<Axes: title={'center': 'release_year'}>, <Axes: >]], dtype=object)"
      ]
     },
     "execution_count": 64,
     "metadata": {},
     "output_type": "execute_result"
    },
    {
     "data": {
      "image/png": "[encoded data removed]",
      "text/plain": [
       "<Figure size 1000x400 with 4 Axes>"
      ]
     },
     "metadata": {},
     "output_type": "display_data"
    }
   ],
   "source": [
    "data.hist(figsize=(10,4))"
   ]
  },
  {
   "cell_type": "code",
   "execution_count": 65,
   "id": "dc5ee132-d9cf-487d-9ac1-3a737336f821",
   "metadata": {},
   "outputs": [],
   "source": [
    "from sklearn.model_selection import train_test_split\n",
    "X_train,X_test,Y_train,Y_test=train_test_split(input,target,test_size=0.3)"
   ]
  },
  {
   "cell_type": "code",
   "execution_count": 66,
   "id": "e2b36020-9e96-43c1-8f56-0da6611265bf",
   "metadata": {},
   "outputs": [
    {
     "data": {
      "text/plain": [
       "686     5\n",
       "579     4\n",
       "744     2\n",
       "1700    5\n",
       "1031    4\n",
       "       ..\n",
       "312     2\n",
       "1914    4\n",
       "317     4\n",
       "518     5\n",
       "1538    5\n",
       "Name: rating, Length: 1386, dtype: object"
      ]
     },
     "execution_count": 66,
     "metadata": {},
     "output_type": "execute_result"
    }
   ],
   "source": [
    "Y_train"
   ]
  },
  {
   "cell_type": "code",
   "execution_count": 67,
   "id": "fe2f8f4a-2af7-41d0-8a37-2cc517f14026",
   "metadata": {},
   "outputs": [
    {
     "data": {
      "text/plain": [
       "1993    3\n",
       "1670    1\n",
       "1420    4\n",
       "162     3\n",
       "184     2\n",
       "       ..\n",
       "466     4\n",
       "1791    4\n",
       "308     5\n",
       "1234    3\n",
       "764     3\n",
       "Name: rating, Length: 594, dtype: object"
      ]
     },
     "execution_count": 67,
     "metadata": {},
     "output_type": "execute_result"
    }
   ],
   "source": [
    "Y_test"
   ]
  },
  {
   "cell_type": "code",
   "execution_count": 68,
   "id": "04190e84-4c87-4238-bae4-aafb561523b5",
   "metadata": {},
   "outputs": [
    {
     "data": {
      "text/plain": [
       "<Axes: >"
      ]
     },
     "execution_count": 68,
     "metadata": {},
     "output_type": "execute_result"
    },
    {
     "data": {
      "image/png": "[encoded data removed]",
      "text/plain": [
       "<Figure size 1000x400 with 1 Axes>"
      ]
     },
     "metadata": {},
     "output_type": "display_data"
    }
   ],
   "source": [
    "Y_train.hist(figsize=(10,4))"
   ]
  },
  {
   "cell_type": "code",
   "execution_count": 69,
   "id": "9380bcaf-be18-423e-83c0-a4eab08f3ff6",
   "metadata": {},
   "outputs": [
    {
     "data": {
      "text/plain": [
       "<Axes: >"
      ]
     },
     "execution_count": 69,
     "metadata": {},
     "output_type": "execute_result"
    },
    {
     "data": {
      "image/png": "[encoded data removed]",
      "text/plain": [
       "<Figure size 1000x400 with 1 Axes>"
      ]
     },
     "metadata": {},
     "output_type": "display_data"
    }
   ],
   "source": [
    "Y_test.hist(figsize=(10,4))"
   ]
  },
  {
   "cell_type": "code",
   "execution_count": 70,
   "id": "609f96dd-e4cc-4436-b865-a94d3bc56ced",
   "metadata": {},
   "outputs": [],
   "source": [
    "data['movie_id'] = pd.to_numeric(data['movie_id'], errors='coerce')"
   ]
  },
  {
   "cell_type": "code",
   "execution_count": 71,
   "id": "ad12ddc9-ef92-490b-a71c-60a5a2937f73",
   "metadata": {},
   "outputs": [
    {
     "data": {
      "text/html": [
       "<style>#sk-container-id-1 {color: black;background-color: white;}#sk-container-id-1 pre{padding: 0;}#sk-container-id-1 div.sk-toggleable {background-color: white;}#sk-container-id-1 label.sk-toggleable__label {cursor: pointer;display: block;width: 100%;margin-bottom: 0;padding: 0.3em;box-sizing: border-box;text-align: center;}#sk-container-id-1 label.sk-toggleable__label-arrow:before {content: \"▸\";float: left;margin-right: 0.25em;color: #696969;}#sk-container-id-1 label.sk-toggleable__label-arrow:hover:before {color: black;}#sk-container-id-1 div.sk-estimator:hover label.sk-toggleable__label-arrow:before {color: black;}#sk-container-id-1 div.sk-toggleable__content {max-height: 0;max-width: 0;overflow: hidden;text-align: left;background-color: #f0f8ff;}#sk-container-id-1 div.sk-toggleable__content pre {margin: 0.2em;color: black;border-radius: 0.25em;background-color: #f0f8ff;}#sk-container-id-1 input.sk-toggleable__control:checked~div.sk-toggleable__content {max-height: 200px;max-width: 100%;overflow: auto;}#sk-container-id-1 input.sk-toggleable__control:checked~label.sk-toggleable__label-arrow:before {content: \"▾\";}#sk-container-id-1 div.sk-estimator input.sk-toggleable__control:checked~label.sk-toggleable__label {background-color: #d4ebff;}#sk-container-id-1 div.sk-label input.sk-toggleable__control:checked~label.sk-toggleable__label {background-color: #d4ebff;}#sk-container-id-1 input.sk-hidden--visually {border: 0;clip: rect(1px 1px 1px 1px);clip: rect(1px, 1px, 1px, 1px);height: 1px;margin: -1px;overflow: hidden;padding: 0;position: absolute;width: 1px;}#sk-container-id-1 div.sk-estimator {font-family: monospace;background-color: #f0f8ff;border: 1px dotted black;border-radius: 0.25em;box-sizing: border-box;margin-bottom: 0.5em;}#sk-container-id-1 div.sk-estimator:hover {background-color: #d4ebff;}#sk-container-id-1 div.sk-parallel-item::after {content: \"\";width: 100%;border-bottom: 1px solid gray;flex-grow: 1;}#sk-container-id-1 div.sk-label:hover label.sk-toggleable__label {background-color: #d4ebff;}#sk-container-id-1 div.sk-serial::before {content: \"\";position: absolute;border-left: 1px solid gray;box-sizing: border-box;top: 0;bottom: 0;left: 50%;z-index: 0;}#sk-container-id-1 div.sk-serial {display: flex;flex-direction: column;align-items: center;background-color: white;padding-right: 0.2em;padding-left: 0.2em;position: relative;}#sk-container-id-1 div.sk-item {position: relative;z-index: 1;}#sk-container-id-1 div.sk-parallel {display: flex;align-items: stretch;justify-content: center;background-color: white;position: relative;}#sk-container-id-1 div.sk-item::before, #sk-container-id-1 div.sk-parallel-item::before {content: \"\";position: absolute;border-left: 1px solid gray;box-sizing: border-box;top: 0;bottom: 0;left: 50%;z-index: -1;}#sk-container-id-1 div.sk-parallel-item {display: flex;flex-direction: column;z-index: 1;position: relative;background-color: white;}#sk-container-id-1 div.sk-parallel-item:first-child::after {align-self: flex-end;width: 50%;}#sk-container-id-1 div.sk-parallel-item:last-child::after {align-self: flex-start;width: 50%;}#sk-container-id-1 div.sk-parallel-item:only-child::after {width: 0;}#sk-container-id-1 div.sk-dashed-wrapped {border: 1px dashed gray;margin: 0 0.4em 0.5em 0.4em;box-sizing: border-box;padding-bottom: 0.4em;background-color: white;}#sk-container-id-1 div.sk-label label {font-family: monospace;font-weight: bold;display: inline-block;line-height: 1.2em;}#sk-container-id-1 div.sk-label-container {text-align: center;}#sk-container-id-1 div.sk-container {/* jupyter's `normalize.less` sets `[hidden] { display: none; }` but bootstrap.min.css set `[hidden] { display: none !important; }` so we also need the `!important` here to be able to override the default hidden behavior on the sphinx rendered scikit-learn.org. See: https://github.com/scikit-learn/scikit-learn/issues/21755 */display: inline-block !important;position: relative;}#sk-container-id-1 div.sk-text-repr-fallback {display: none;}</style><div id=\"sk-container-id-1\" class=\"sk-top-container\"><div class=\"sk-text-repr-fallback\"><pre>LogisticRegression()</pre><b>In a Jupyter environment, please rerun this cell to show the HTML representation or trust the notebook. <br />On GitHub, the HTML representation is unable to render, please try loading this page with nbviewer.org.</b></div><div class=\"sk-container\" hidden><div class=\"sk-item\"><div class=\"sk-estimator sk-toggleable\"><input class=\"sk-toggleable__control sk-hidden--visually\" id=\"sk-estimator-id-1\" type=\"checkbox\" checked><label for=\"sk-estimator-id-1\" class=\"sk-toggleable__label sk-toggleable__label-arrow\">LogisticRegression</label><div class=\"sk-toggleable__content\"><pre>LogisticRegression()</pre></div></div></div></div></div>"
      ],
      "text/plain": [
       "LogisticRegression()"
      ]
     },
     "execution_count": 71,
     "metadata": {},
     "output_type": "execute_result"
    }
   ],
   "source": [
    "from sklearn.linear_model import LogisticRegression\n",
    "model=LogisticRegression()\n",
    "model.fit(X_train,Y_train)"
   ]
  },
  {
   "cell_type": "code",
   "execution_count": 75,
   "id": "16edf194-f9fe-40c9-b1e8-5418efbd4a23",
   "metadata": {},
   "outputs": [],
   "source": [
    "X_test=np.array(X_test)"
   ]
  },
  {
   "cell_type": "code",
   "execution_count": 76,
   "id": "93861fbe-2a63-4cb4-8681-202575e5b85c",
   "metadata": {
    "scrolled": true
   },
   "outputs": [
    {
     "name": "stderr",
     "output_type": "stream",
     "text": [
      "C:\\Users\\param\\anaconda3\\Lib\\site-packages\\sklearn\\base.py:439: UserWarning: X does not have valid feature names, but LogisticRegression was fitted with feature names\n",
      "  warnings.warn(\n"
     ]
    },
    {
     "data": {
      "text/plain": [
       "array(['4', '4', '4', '4', '4', '4', '4', '4', '4', '4', '4', '4', '4',\n",
       "       '4', '4', '4', '4', '4', '4', '4', '4', '4', '4', '4', '4', '4',\n",
       "       '4', '4', '4', '4', '4', '4', '4', '4', '4', '4', '4', '4', '4',\n",
       "       '4', '4', '4', '4', '4', '4', '4', '4', '4', '4', '4', '4', '4',\n",
       "       '4', '4', '4', '4', '4', '4', '4', '4', '4', '4', '4', '4', '4',\n",
       "       '4', '4', '4', '4', '4', '4', '4', '4', '4', '4', '4', '4', '4',\n",
       "       '4', '4', '4', '4', '4', '4', '4', '4', '4', '4', '4', '4', '4',\n",
       "       '4', '4', '4', '4', '4', '4', '4', '4', '4', '4', '4', '4', '4',\n",
       "       '4', '4', '4', '4', '4', '4', '4', '4', '4', '4', '4', '4', '4',\n",
       "       '4', '4', '4', '4', '4', '4', '4', '4', '4', '4', '4', '4', '4',\n",
       "       '4', '4', '4', '4', '4', '4', '4', '4', '4', '4', '4', '4', '4',\n",
       "       '4', '4', '4', '4', '4', '4', '4', '4', '4', '4', '4', '4', '4',\n",
       "       '4', '4', '4', '4', '4', '4', '4', '4', '4', '4', '4', '4', '4',\n",
       "       '4', '4', '4', '4', '4', '4', '4', '4', '4', '4', '4', '4', '4',\n",
       "       '4', '4', '4', '4', '4', '4', '4', '4', '4', '4', '4', '4', '4',\n",
       "       '4', '4', '4', '4', '4', '4', '4', '4', '4', '4', '4', '4', '4',\n",
       "       '4', '4', '4', '4', '4', '4', '4', '4', '4', '4', '4', '4', '4',\n",
       "       '4', '4', '4', '4', '4', '4', '4', '4', '4', '4', '4', '4', '4',\n",
       "       '4', '4', '4', '4', '4', '4', '4', '4', '4', '4', '4', '4', '4',\n",
       "       '4', '4', '4', '4', '4', '4', '4', '4', '4', '4', '4', '4', '4',\n",
       "       '4', '4', '4', '4', '4', '4', '4', '4', '4', '4', '4', '4', '4',\n",
       "       '4', '4', '4', '4', '4', '4', '4', '4', '4', '4', '4', '4', '4',\n",
       "       '4', '4', '4', '4', '4', '4', '4', '4', '4', '4', '4', '4', '4',\n",
       "       '4', '4', '4', '4', '4', '4', '4', '4', '4', '4', '4', '4', '4',\n",
       "       '4', '4', '4', '4', '4', '4', '4', '4', '4', '4', '4', '4', '4',\n",
       "       '4', '4', '4', '4', '4', '4', '4', '4', '4', '4', '4', '4', '4',\n",
       "       '4', '4', '4', '4', '4', '4', '4', '4', '4', '4', '4', '4', '4',\n",
       "       '4', '4', '4', '4', '4', '4', '4', '4', '4', '4', '4', '4', '4',\n",
       "       '4', '4', '4', '4', '4', '4', '4', '4', '4', '4', '4', '4', '4',\n",
       "       '4', '4', '4', '4', '4', '4', '4', '4', '4', '4', '4', '4', '4',\n",
       "       '4', '4', '4', '4', '4', '4', '4', '4', '4', '4', '4', '4', '4',\n",
       "       '4', '4', '4', '4', '4', '4', '4', '4', '4', '4', '4', '4', '4',\n",
       "       '4', '4', '4', '4', '4', '4', '4', '4', '4', '4', '4', '4', '4',\n",
       "       '4', '4', '4', '4', '4', '4', '4', '4', '4', '4', '4', '4', '4',\n",
       "       '4', '4', '4', '4', '4', '4', '4', '4', '4', '4', '4', '4', '4',\n",
       "       '4', '4', '4', '4', '4', '4', '4', '4', '4', '4', '4', '4', '4',\n",
       "       '4', '4', '4', '4', '4', '4', '4', '4', '4', '4', '4', '4', '4',\n",
       "       '4', '4', '4', '4', '4', '4', '4', '4', '4', '4', '4', '4', '4',\n",
       "       '4', '4', '4', '4', '4', '4', '4', '4', '4', '4', '4', '4', '4',\n",
       "       '4', '4', '4', '4', '4', '4', '4', '4', '4', '4', '4', '4', '4',\n",
       "       '4', '4', '4', '4', '4', '4', '4', '4', '4', '4', '4', '4', '4',\n",
       "       '4', '4', '4', '4', '4', '4', '4', '4', '4', '4', '4', '4', '4',\n",
       "       '4', '4', '4', '4', '4', '4', '4', '4', '4', '4', '4', '4', '4',\n",
       "       '4', '4', '4', '4', '4', '4', '4', '4', '4', '4', '4', '4', '4',\n",
       "       '4', '4', '4', '4', '4', '4', '4', '4', '4', '4', '4', '4', '4',\n",
       "       '4', '4', '4', '4', '4', '4', '4', '4', '4'], dtype=object)"
      ]
     },
     "execution_count": 76,
     "metadata": {},
     "output_type": "execute_result"
    }
   ],
   "source": [
    "model.predict(X_test)"
   ]
  },
  {
   "cell_type": "code",
   "execution_count": 74,
   "id": "97b2394d-4804-4c5c-bff2-69adb6544420",
   "metadata": {},
   "outputs": [
    {
     "data": {
      "text/plain": [
       "1993    3\n",
       "1670    1\n",
       "1420    4\n",
       "162     3\n",
       "184     2\n",
       "       ..\n",
       "466     4\n",
       "1791    4\n",
       "308     5\n",
       "1234    3\n",
       "764     3\n",
       "Name: rating, Length: 594, dtype: object"
      ]
     },
     "execution_count": 74,
     "metadata": {},
     "output_type": "execute_result"
    }
   ],
   "source": [
    "Y_test"
   ]
  },
  {
   "cell_type": "code",
   "execution_count": null,
   "id": "3c547c8d-cc4a-4e54-98c4-281423c2bce9",
   "metadata": {},
   "outputs": [],
   "source": []
  }
 ],
 "metadata": {
  "kernelspec": {
   "display_name": "Python 3 (ipykernel)",
   "language": "python",
   "name": "python3"
  },
  "language_info": {
   "codemirror_mode": {
    "name": "ipython",
    "version": 3
   },
   "file_extension": ".py",
   "mimetype": "text/x-python",
   "name": "python",
   "nbconvert_exporter": "python",
   "pygments_lexer": "ipython3",
   "version": "3.11.7"
  }
 },
 "nbformat": 4,
 "nbformat_minor": 5
}
